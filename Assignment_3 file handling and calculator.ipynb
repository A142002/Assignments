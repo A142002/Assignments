{
  "nbformat": 4,
  "nbformat_minor": 0,
  "metadata": {
    "colab": {
      "provenance": [],
      "collapsed_sections": []
    },
    "kernelspec": {
      "name": "python3",
      "display_name": "Python 3"
    },
    "language_info": {
      "name": "python"
    }
  },
  "cells": [
    {
      "cell_type": "markdown",
      "source": [
        "ASSIGNMENT NO 3"
      ],
      "metadata": {
        "id": "_YEM7-jyc5aS"
      }
    },
    {
      "cell_type": "markdown",
      "source": [
        "1] What is r+,w+,a+"
      ],
      "metadata": {
        "id": "LbplhLLycwqI"
      }
    },
    {
      "cell_type": "code",
      "source": [
        "#w+ = Write and Read Mode(previously stored data erased and if file not exist it will show error)\n",
        "data=[\"hello\\n\",\"good morning\\n\",\"bye\"]\n",
        "myfile=open(\"file.txt\",\"w+\")\n",
        "myfile.writelines(data)\n",
        "myfile.seek(0)             #move pointer to index 0\n",
        "print(myfile.read())       #read "
      ],
      "metadata": {
        "colab": {
          "base_uri": "https://localhost:8080/"
        },
        "id": "7PKnlp-PdDxO",
        "outputId": "e7120928-7311-4919-f244-e34d4e95eccf"
      },
      "execution_count": null,
      "outputs": [
        {
          "output_type": "stream",
          "name": "stdout",
          "text": [
            "hello\n",
            "good morning\n",
            "bye\n"
          ]
        }
      ]
    },
    {
      "cell_type": "code",
      "source": [
        "#r+ = Read as well as write(previously stored data remain as it is and if file doesn't exist a new file will be created)\n",
        "f=open(\"file.txt\",\"r+\")\n",
        "print(\"initially file contains\")\n",
        "print(f.read())\n",
        "f.write(\"\\ncutie\")\n",
        "print(\"after r+ operation file contains\")\n",
        "f.seek(0)\n",
        "print(f.read())\n"
      ],
      "metadata": {
        "colab": {
          "base_uri": "https://localhost:8080/"
        },
        "id": "DJ6ELsbVk86z",
        "outputId": "8dda1789-4b65-40d8-e22d-6bd57b5342ff"
      },
      "execution_count": null,
      "outputs": [
        {
          "output_type": "stream",
          "name": "stdout",
          "text": [
            "initially file contains\n",
            "hello\n",
            "good morning\n",
            "bye\n",
            "after r+ operation file contains\n",
            "hello\n",
            "good morning\n",
            "byecutie\n"
          ]
        }
      ]
    },
    {
      "cell_type": "code",
      "source": [
        "#a+ = Read as well as Write(if file dosen't exist new file will be created and previously stored data remain in file)\n",
        "f1=open(\"file3.txt\",\"a+\")\n",
        "f1.write(\"\\n this is an example of modes\")\n",
        "f1.seek(0)\n",
        "print(\"First time:\",f1.read())\n",
        "f1.write(\"\\nthis is an important topic\")\n",
        "f1.seek(0)\n",
        "print(\"\\nsecond time:\",f1.read())"
      ],
      "metadata": {
        "colab": {
          "base_uri": "https://localhost:8080/"
        },
        "id": "HLZX-kMOr68y",
        "outputId": "1fa250f4-733b-4e8e-f0ac-739f67aa22ac"
      },
      "execution_count": null,
      "outputs": [
        {
          "output_type": "stream",
          "name": "stdout",
          "text": [
            "First time: this is an example of modesthis is an important topicthis is an example of modes\t this is an important topicthis is an example of modes\n",
            "\n",
            "second time: this is an example of modesthis is an important topicthis is an example of modes\t this is an important topicthis is an example of modes\n",
            "this is an important topic\n"
          ]
        }
      ]
    },
    {
      "cell_type": "markdown",
      "source": [
        "Calculator"
      ],
      "metadata": {
        "id": "qwwOuS_8tegJ"
      }
    },
    {
      "cell_type": "code",
      "source": [
        "choice=\"y\"\n",
        "while choice==\"y\": \n",
        " n1=int(input(\"enter no 1:\"))\n",
        " n2=int(input(\"enter no 2:\"))\n",
        " print(\"1.Add\\n2.sub\\n3.mul\\n4.div\")\n",
        " n=int(input(\"enter your choice:\"))\n",
        " def sub(n1,n2):\n",
        "  print(\"\\nSubtraction is: \",n1-n2)\n",
        "  with open(\"calculator.txt\",\"a\") as f:\n",
        "    f.write(f\"\\nsubtraction of {n1} and {n2} is {n1-n2}\")\n",
        "  \n",
        "\n",
        " def addition(n1,n2):\n",
        "  print(\"\\n Addition is :\",n1+n2)\n",
        "  with open(\"calculator.txt\",\"a\") as f:\n",
        "    f.write(f\"\\n subtraction of{n1} and {n2} is {n1+n2}\")\n",
        "\n",
        " def mul(n1,n2):\n",
        "  print(\"\\n Multiplication is :\",n1*n2)\n",
        "  with open(\"calculator.txt\",\"a\") as f:\n",
        "    f.write(f\"\\n subtraction of  {n1} and {n2} is {n1*n2}\")\n",
        "\n",
        " def div(n1,n2):\n",
        "  print(\"\\nDivision is :\",n1/n2)\n",
        "  with open(\"calculator.txt\",\"a\") as f:\n",
        "    f.write(f\"\\nsubtraction of {n1} and {n2} is {n1/n2}\")\n",
        "\n",
        "\n",
        "  \n",
        " if n==1:\n",
        "  addition(n1,n2)\n",
        " elif n==2:\n",
        "  sub(n1,n2)\n",
        " elif n==3:\n",
        "  mul(n1,n2)\n",
        " elif n==4:\n",
        "  div(n1,n2)\n",
        " else:\n",
        "  print(\"please enter valid number\")\n",
        " choice=input(\"\\nDo you want to continue(y/n):\")\n",
        " \n"
      ],
      "metadata": {
        "colab": {
          "base_uri": "https://localhost:8080/"
        },
        "id": "GZfSi2BIwbPh",
        "outputId": "da385ea3-74f5-414d-a2bb-6b13b69fbe47"
      },
      "execution_count": null,
      "outputs": [
        {
          "name": "stdout",
          "output_type": "stream",
          "text": [
            "enter no 1:6\n",
            "enter no 2:7\n",
            "1.Add\n",
            "2.sub\n",
            "3.mul\n",
            "4.div\n",
            "enter your choice:2\n",
            "\n",
            "Subtraction is:  -1\n",
            "\n",
            "Do you want to continue(y/n):n\n"
          ]
        }
      ]
    },
    {
      "cell_type": "code",
      "source": [
        "from google.colab import drive\n",
        "drive.mount('/content/drive')"
      ],
      "metadata": {
        "id": "nk7a5XbJ-unL"
      },
      "execution_count": null,
      "outputs": []
    }
  ]
}